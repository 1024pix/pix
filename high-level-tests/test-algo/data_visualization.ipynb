{
 "cells": [
  {
   "cell_type": "markdown",
   "id": "2a2d9cc3",
   "metadata": {},
   "source": [
    "# Algolix - Data Visualization\n",
    "\n",
    "Ce notebook a pour but de visualiser les données produites par Algolix, l'outil de test de notre algorithme adaptatif. "
   ]
  },
  {
   "cell_type": "code",
   "execution_count": null,
   "id": "dad8dcd0",
   "metadata": {},
   "outputs": [],
   "source": [
    "import pandas as pd\n",
    "import matplotlib.pyplot as plt\n",
    "import numpy as np"
   ]
  },
  {
   "cell_type": "code",
   "execution_count": null,
   "id": "5bb1a323",
   "metadata": {},
   "outputs": [],
   "source": [
    "df = pd.read_csv(\"20210806100759-results.csv\")"
   ]
  },
  {
   "cell_type": "code",
   "execution_count": null,
   "id": "933c0424",
   "metadata": {
    "scrolled": true
   },
   "outputs": [],
   "source": [
    "df.head"
   ]
  },
  {
   "cell_type": "code",
   "execution_count": null,
   "id": "b44c492a",
   "metadata": {},
   "outputs": [],
   "source": [
    "groups = df.groupby('id')"
   ]
  },
  {
   "cell_type": "code",
   "execution_count": null,
   "id": "823a417b",
   "metadata": {},
   "outputs": [],
   "source": [
    "for id in groups.groups: \n",
    "    df_temp = df[df['id'] == id]\n",
    "    fig, ax = plt.subplots()\n",
    "    ax.plot(df_temp['nChallenge'], df_temp['estimatedLevel'], label='estimatedLevel') \n",
    "    ax.plot(df_temp['nChallenge'], df_temp['challengeLevel'], label='challengeLevel') \n",
    "    ax.set_xlabel('numero challenge') \n",
    "    ax.set_ylabel('niveau')\n",
    "    ax.set_title(\"niveau estimé par rapport au niveau de la question\")\n",
    "    ax.legend()  "
   ]
  }
 ],
 "metadata": {
  "kernelspec": {
   "display_name": "Python 3 (ipykernel)",
   "language": "python",
   "name": "python3"
  },
  "language_info": {
   "codemirror_mode": {
    "name": "ipython",
    "version": 3
   },
   "file_extension": ".py",
   "mimetype": "text/x-python",
   "name": "python",
   "nbconvert_exporter": "python",
   "pygments_lexer": "ipython3",
   "version": "3.9.6"
  }
 },
 "nbformat": 4,
 "nbformat_minor": 5
}
